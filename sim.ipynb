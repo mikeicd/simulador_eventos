{
 "cells": [
  {
   "cell_type": "markdown",
   "metadata": {},
   "source": []
  },
  {
   "cell_type": "code",
   "execution_count": null,
   "metadata": {},
   "outputs": [],
   "source": [
    "#gerado com apoio do chatGPT\n",
    "import heapq\n",
    "import random\n",
    "import math\n",
    "from enum import Enum\n",
    "from typing import List, Union"
   ]
  },
  {
   "cell_type": "markdown",
   "metadata": {},
   "source": [
    "## ENUMS"
   ]
  },
  {
   "cell_type": "code",
   "execution_count": null,
   "metadata": {},
   "outputs": [],
   "source": [
    "class EVENTOS(Enum):\n",
    "    CHEGADA = \"Chegada\"\n",
    "    PARTIDA = \"Partida\"\n",
    "    SERVICE = \"Service\""
   ]
  },
  {
   "cell_type": "markdown",
   "metadata": {},
   "source": [
    "## Classe geradora de números randômicos"
   ]
  },
  {
   "cell_type": "code",
   "execution_count": null,
   "metadata": {},
   "outputs": [],
   "source": [
    "class LCG:\n",
    "    def __init__(self, seed, a, c, m):\n",
    "        \"\"\"\n",
    "        Inicializa o gerador LCG com os parâmetros fornecidos.\n",
    "\n",
    "        Args:\n",
    "            seed: Semente inicial para o gerador.\n",
    "            a: Coeficiente multiplicativo.\n",
    "            c: Coeficiente aditivo.\n",
    "            m: Módulo.\n",
    "        \"\"\"\n",
    "        self.seed = seed\n",
    "        self.a = a\n",
    "        self.c = c\n",
    "        self.m = m\n",
    "\n",
    "    def sample(self):\n",
    "        \"\"\"\n",
    "        Amostra um valor da sequência de números pseudoaleatórios.\n",
    "\n",
    "        Returns:\n",
    "            Um número pseudoaleatório.\n",
    "        \"\"\"\n",
    "        self.seed = (self.a * self.seed + self.c) % self.m\n",
    "        return self.seed / self.m  # Normaliza o valor para estar entre 0 e 1"
   ]
  },
  {
   "cell_type": "markdown",
   "metadata": {},
   "source": [
    "## Classe Queue de eventos"
   ]
  },
  {
   "cell_type": "code",
   "execution_count": null,
   "metadata": {},
   "outputs": [],
   "source": [
    "class Queue:\n",
    "    def __init__(self):\n",
    "        self.buffer = []  # Buffer para armazenar os eventos\n",
    "\n",
    "    def enqueue(self, event):\n",
    "        heapq.heappush(self.buffer, event)\n",
    "\n",
    "    def dequeue(self):\n",
    "        return heapq.heappop(self.buffer)\n",
    "\n",
    "    def is_empty(self):\n",
    "        return len(self.buffer) == 0\n",
    "    \n",
    "    def size(self):\n",
    "        return len(self.buffer)"
   ]
  },
  {
   "cell_type": "markdown",
   "metadata": {},
   "source": [
    "## Classe para representar o evento"
   ]
  },
  {
   "cell_type": "code",
   "execution_count": null,
   "metadata": {},
   "outputs": [],
   "source": [
    "class Event:\n",
    "    def __init__(self, time, action, event_type, mm1, client_id):\n",
    "        self.time = time\n",
    "        self.action = action\n",
    "        self.event_type = event_type\n",
    "        self.mm1 = mm1\n",
    "        self.client_id = client_id\n",
    "\n",
    "    def __lt__(self, other):\n",
    "        return self.time < other.time\n",
    "    \n",
    "    def __repr__(self) -> str:\n",
    "        if self.event_type in(EVENTOS.PARTIDA, EVENTOS.CHEGADA):\n",
    "            return f\"{self.time:.2f} - {self.mm1.name} - {self.event_type.value} do Cliente {self.client_id:07d}\"\n",
    "        else:\n",
    "            return \"\""
   ]
  },
  {
   "cell_type": "markdown",
   "metadata": {},
   "source": [
    "## Classe MM1\n"
   ]
  },
  {
   "cell_type": "code",
   "execution_count": null,
   "metadata": {},
   "outputs": [],
   "source": [
    "class MM1:\n",
    "    def __init__(self, name, arrival_rate, service_rate, queue_size, simulator) -> None:\n",
    "        self.name = name\n",
    "        self.simulator = simulator\n",
    "        self.arrival_rate = arrival_rate\n",
    "        self.service_rate = service_rate\n",
    "        self.num_customers_served_from_queue = 0\n",
    "        self.num_drop = 0\n",
    "        self.queue_size = queue_size\n",
    "        self.queue_waiting_time = 0\n",
    "        self.idle = True\n",
    "        self.queue = Queue()\n",
    "        self.cin = None\n",
    "        self.cout = None\n",
    "\n",
    "        self.LCG = LCG(12345, 1103515245, 12345, 2**31)\n",
    "\n",
    "    def __repr__(self) -> str:\n",
    "        return f\"{self.name} with ar = {self.arrival_rate} and sr = {self.service_rate}\"\n",
    "\n",
    "    def exponential_random_variate(self, rate):\n",
    "        # return -math.log(1.0 - random.random()) / rate\n",
    "        time = -math.log(1.0 - self.LCG.sample()) / rate\n",
    "        # print(time)\n",
    "        return time\n",
    "\n",
    "    def arrival_action(self, client_id):\n",
    "        if self.idle == True:\n",
    "            service_time = self.exponential_random_variate(self.service_rate)\n",
    "            self.simulator.response_time += service_time\n",
    "            self.simulator.schedule_event(\n",
    "                service_time, lambda: self.departure_action(client_id), EVENTOS.PARTIDA, self, client_id\n",
    "            )\n",
    "            self.idle = False\n",
    "            # print(\"Inicia serviço\")\n",
    "        else:\n",
    "            # Adiciona o evento à fila com o tempo de chegada\n",
    "            if self.queue.size() <= self.queue_size:\n",
    "                event = Event(self.simulator.current_time, None, EVENTOS.CHEGADA, self, client_id)\n",
    "                # print(\"Enfileira\")\n",
    "                self.queue.enqueue(event)\n",
    "            else:\n",
    "                pass\n",
    "                # print(\"Dropped\")\n",
    "\n",
    "        if self.name == \"rec\":\n",
    "            interarrival_time = self.exponential_random_variate(self.arrival_rate)\n",
    "            new_client = client_id + 1\n",
    "            evento = EVENTOS.CHEGADA\n",
    "            self.simulator.schedule_event(\n",
    "                interarrival_time, lambda: self.arrival_action(new_client), evento, self, new_client\n",
    "            )\n",
    "\n",
    "    def departure_action(self, client_id):\n",
    "        self.simulator.num_customers_served += 1\n",
    "        service_time = 0\n",
    "        if not self.queue.is_empty():\n",
    "            event = self.queue.dequeue()\n",
    "            client_id = event.client_id\n",
    "            waiting_time = self.simulator.current_time - event.time\n",
    "            self.queue_waiting_time += waiting_time\n",
    "            # print(\"Tempo {:.2f}: Tempo espera de cliente\".format(self.queue_waiting_time))\n",
    "            self.num_customers_served_from_queue += 1\n",
    "            service_time = self.exponential_random_variate(self.service_rate)\n",
    "            self.simulator.response_time += waiting_time + service_time\n",
    "            # Proximo departure\n",
    "            self.simulator.schedule_event(\n",
    "                service_time, lambda: self.departure_action(client_id), EVENTOS.PARTIDA, self, client_id\n",
    "            )\n",
    "        else:\n",
    "            self.idle = True\n",
    "\n",
    "        if not self.cout is None:\n",
    "            mm1_next = self.cout.next()\n",
    "            self.simulator.schedule_event(\n",
    "                service_time,\n",
    "                lambda: mm1_next.arrival_action(client_id),\n",
    "                EVENTOS.CHEGADA,\n",
    "                mm1_next,\n",
    "                client_id,\n",
    "            )"
   ]
  },
  {
   "cell_type": "markdown",
   "metadata": {},
   "source": [
    "## Classe Connector"
   ]
  },
  {
   "cell_type": "code",
   "execution_count": null,
   "metadata": {},
   "outputs": [],
   "source": [
    "class Connector:\n",
    "    def __init__(self, IN: List[MM1], OUT: List[MM1], prob_out: List[int]):\n",
    "        self.IN = IN\n",
    "        self.OUT = OUT\n",
    "\n",
    "        if sum(prob_out) == 1:\n",
    "            self.prob_send = prob_out\n",
    "        else:\n",
    "            return None\n",
    "\n",
    "        for i in self.IN:\n",
    "            i.cout = self\n",
    "\n",
    "        for o in self.OUT:\n",
    "            o.cin = self\n",
    "\n",
    "    def __repr__(self) -> str:\n",
    "        enter = \", \".join([i.name for i in self.IN])\n",
    "        leave = \", \".join([o.name for o in self.OUT])\n",
    "        return f\"Connecting {enter} to {leave}\"\n",
    "\n",
    "    def next(self) -> Union[MM1, None]:\n",
    "        if self.OUT:\n",
    "            # FIXME Gerar uma resposta com base nas probabilidades de cada saida\n",
    "            return self.OUT[0]\n",
    "        else:\n",
    "            return None"
   ]
  },
  {
   "cell_type": "markdown",
   "metadata": {},
   "source": [
    "## Classe para o simulador"
   ]
  },
  {
   "cell_type": "code",
   "execution_count": null,
   "metadata": {},
   "outputs": [],
   "source": [
    "class Simulator:\n",
    "    def __init__(self):\n",
    "        self.current_time = 0\n",
    "        self.event_queue = []\n",
    "        self.server_idle = True\n",
    "        self.num_customers_served = 0\n",
    "        self.response_time = 0  # Armazena a acumulado o tempo de TEMPO ESPERA no Sistema        \n",
    "\n",
    "        self.recepcao = MM1(\"rec\", 0.5, 1, 5, self)\n",
    "        self.triagem = MM1(\"    ate\", 0.5, 1, 5, self)\n",
    "        self.atendimento = MM1(\"        pag\", 0.5, 1, 5, self)\n",
    "        self.rec_tri = Connector([self.recepcao], [self.triagem], [1])\n",
    "        self.tri_ate = Connector([self.triagem], [self.atendimento], [1])\n",
    "        self.LCG = LCG(12345, 1103515245, 12345, 2**31)\n",
    "\n",
    "    def schedule_event(self, delay, action, event_type, mm1, client_id):\n",
    "        event_time = self.current_time + delay\n",
    "        event = Event(event_time, action, event_type, mm1, client_id)\n",
    "        heapq.heappush(self.event_queue, event)\n",
    "\n",
    "    def exponential_random_variate(self, rate):\n",
    "        # return -math.log(1.0 - random.random()) / rate\n",
    "        time = -math.log(1.0 - self.LCG.sample()) / rate\n",
    "        # print(time)\n",
    "        return time    \n",
    "\n",
    "    def run(self, end_time):\n",
    "        client_id = 1\n",
    "        self.schedule_event(\n",
    "            0, lambda: self.recepcao.arrival_action(client_id), EVENTOS.CHEGADA, self.recepcao, client_id\n",
    "        )\n",
    "\n",
    "        while self.current_time < end_time:\n",
    "            if not self.event_queue:\n",
    "                break\n",
    "\n",
    "            event = heapq.heappop(self.event_queue)\n",
    "            print(event)\n",
    "            self.current_time = event.time\n",
    "\n",
    "            event.action()\n",
    "        # print(\n",
    "        #     \"Tempo {:.2f}: Número médio de requisições no sistema no Sistema\".format(\n",
    "        #         self.response_time / self.current_time\n",
    "        #     )\n",
    "        # )\n",
    "        print(\"Tempo {:.2f}: Total Requisicoes no Sistema\".format(self.num_customers_served))\n",
    "        print(\"Tempo {:.2f}: Vazao no Sistema\".format(self.num_customers_served / end_time))\n",
    "        # print(\"Tempo {:.2f}: Tempo Resposta Medio no Sistema\".format(self.response_time / self.num_customers_served))"
   ]
  },
  {
   "cell_type": "markdown",
   "metadata": {},
   "source": [
    "## Iniciando simulação"
   ]
  },
  {
   "cell_type": "code",
   "execution_count": null,
   "metadata": {},
   "outputs": [],
   "source": [
    "simulation_time = 20000  # Tempo total de simulação\n",
    "\n",
    "simulator = Simulator()\n",
    "simulator.run(simulation_time)"
   ]
  },
  {
   "cell_type": "markdown",
   "metadata": {},
   "source": []
  }
 ],
 "metadata": {
  "kernelspec": {
   "display_name": "Python 3",
   "language": "python",
   "name": "python3"
  },
  "language_info": {
   "codemirror_mode": {
    "name": "ipython",
    "version": 3
   },
   "file_extension": ".py",
   "mimetype": "text/x-python",
   "name": "python",
   "nbconvert_exporter": "python",
   "pygments_lexer": "ipython3",
   "version": "3.10.12"
  }
 },
 "nbformat": 4,
 "nbformat_minor": 2
}
